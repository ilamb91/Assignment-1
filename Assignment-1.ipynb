{
 "cells": [
  {
   "cell_type": "code",
   "execution_count": 1,
   "id": "ddeffb55-24d0-4fa8-8b29-e39decb28794",
   "metadata": {},
   "outputs": [],
   "source": [
    "#Q1. Create one variable containing following type of data:"
   ]
  },
  {
   "cell_type": "code",
   "execution_count": 2,
   "id": "ee00253d-6b1b-4e4c-a499-b1fc639ae303",
   "metadata": {},
   "outputs": [],
   "source": [
    "a = [2,3,4,5, 'lamb', \"ilamb91\", 11.11, True]"
   ]
  },
  {
   "cell_type": "code",
   "execution_count": 3,
   "id": "c975536a-7b12-47a2-85b0-cf5f69c084f9",
   "metadata": {},
   "outputs": [
    {
     "data": {
      "text/plain": [
       "[2, 3, 4, 5, 'lamb', 'ilamb91', 11.11, True]"
      ]
     },
     "execution_count": 3,
     "metadata": {},
     "output_type": "execute_result"
    }
   ],
   "source": [
    "a"
   ]
  },
  {
   "cell_type": "code",
   "execution_count": 4,
   "id": "ab1e50d9-a107-4d90-9a26-13f39ca57f96",
   "metadata": {},
   "outputs": [
    {
     "data": {
      "text/plain": [
       "list"
      ]
     },
     "execution_count": 4,
     "metadata": {},
     "output_type": "execute_result"
    }
   ],
   "source": [
    "type(a)"
   ]
  },
  {
   "cell_type": "code",
   "execution_count": 5,
   "id": "a6991277-9311-450c-a162-faa271280834",
   "metadata": {},
   "outputs": [],
   "source": [
    "b = \"lamb\""
   ]
  },
  {
   "cell_type": "code",
   "execution_count": 6,
   "id": "ef59ba37-7125-4516-a197-926da5bd19dc",
   "metadata": {},
   "outputs": [
    {
     "data": {
      "text/plain": [
       "str"
      ]
     },
     "execution_count": 6,
     "metadata": {},
     "output_type": "execute_result"
    }
   ],
   "source": [
    "type(b)"
   ]
  },
  {
   "cell_type": "code",
   "execution_count": 7,
   "id": "c2c5e5d5-0103-4e6f-b98a-18c076e9b9e9",
   "metadata": {},
   "outputs": [],
   "source": [
    "c = 11.11"
   ]
  },
  {
   "cell_type": "code",
   "execution_count": 8,
   "id": "ccb3b0c9-0702-4619-99fc-112aafe3c0fc",
   "metadata": {},
   "outputs": [
    {
     "data": {
      "text/plain": [
       "float"
      ]
     },
     "execution_count": 8,
     "metadata": {},
     "output_type": "execute_result"
    }
   ],
   "source": [
    "type (c)"
   ]
  },
  {
   "cell_type": "code",
   "execution_count": 21,
   "id": "8aeacac3-ba9a-487b-b31c-02bc086de2fe",
   "metadata": {},
   "outputs": [],
   "source": [
    "#Q2. Given are some following variables containing data:"
   ]
  },
  {
   "cell_type": "code",
   "execution_count": 10,
   "id": "5d36aac5-2242-4edd-9912-0a37eedaa8f5",
   "metadata": {},
   "outputs": [],
   "source": [
    "var1 = 'hello'"
   ]
  },
  {
   "cell_type": "code",
   "execution_count": 11,
   "id": "13fb70d3-e2e8-408a-920c-8850301860f5",
   "metadata": {},
   "outputs": [
    {
     "data": {
      "text/plain": [
       "str"
      ]
     },
     "execution_count": 11,
     "metadata": {},
     "output_type": "execute_result"
    }
   ],
   "source": [
    "type(var1)"
   ]
  },
  {
   "cell_type": "code",
   "execution_count": 12,
   "id": "507f4db6-d7cf-422c-87af-eec7abf3111f",
   "metadata": {},
   "outputs": [],
   "source": [
    "var2 = '[DS, ML, Python]'"
   ]
  },
  {
   "cell_type": "code",
   "execution_count": 15,
   "id": "c88d448f-3936-4fdf-9208-6d56b8c80bb7",
   "metadata": {},
   "outputs": [
    {
     "data": {
      "text/plain": [
       "str"
      ]
     },
     "execution_count": 15,
     "metadata": {},
     "output_type": "execute_result"
    }
   ],
   "source": [
    "type(var2)"
   ]
  },
  {
   "cell_type": "code",
   "execution_count": 16,
   "id": "281d2cf6-d9e9-499f-aafc-b001ba03ffa6",
   "metadata": {},
   "outputs": [],
   "source": [
    "var3 = ['DS', 'ML', 'Python']"
   ]
  },
  {
   "cell_type": "code",
   "execution_count": 17,
   "id": "09f4f578-ecd6-4edf-b8e2-3712f58181fc",
   "metadata": {},
   "outputs": [
    {
     "data": {
      "text/plain": [
       "list"
      ]
     },
     "execution_count": 17,
     "metadata": {},
     "output_type": "execute_result"
    }
   ],
   "source": [
    "type(var3)"
   ]
  },
  {
   "cell_type": "code",
   "execution_count": 18,
   "id": "daac163e-0942-4490-aaf5-044a123088c0",
   "metadata": {},
   "outputs": [],
   "source": [
    "var4 = 1."
   ]
  },
  {
   "cell_type": "code",
   "execution_count": 19,
   "id": "bf366a42-4f75-4ad8-bb57-44b179cd134d",
   "metadata": {},
   "outputs": [
    {
     "data": {
      "text/plain": [
       "float"
      ]
     },
     "execution_count": 19,
     "metadata": {},
     "output_type": "execute_result"
    }
   ],
   "source": [
    "type(var4)"
   ]
  },
  {
   "cell_type": "code",
   "execution_count": 22,
   "id": "cef9a444-4dab-4869-bd4a-57241c8446b8",
   "metadata": {},
   "outputs": [],
   "source": [
    "#Q3. Explain the use of the following operators using an example:"
   ]
  },
  {
   "cell_type": "code",
   "execution_count": 23,
   "id": "bc2b1121-99f8-4ae9-bd95-2093e7748edc",
   "metadata": {},
   "outputs": [],
   "source": [
    "#(i) / - It is used to divide in calculation. It is the type of arithmetic operator"
   ]
  },
  {
   "cell_type": "code",
   "execution_count": 24,
   "id": "0f81e8e7-3e38-44c3-ac38-26c5991066b3",
   "metadata": {},
   "outputs": [
    {
     "data": {
      "text/plain": [
       "2.0"
      ]
     },
     "execution_count": 24,
     "metadata": {},
     "output_type": "execute_result"
    }
   ],
   "source": [
    "10/5"
   ]
  },
  {
   "cell_type": "code",
   "execution_count": 25,
   "id": "5b9cc770-2c70-451c-9491-da21b6305915",
   "metadata": {},
   "outputs": [],
   "source": [
    "#(ii) % - It is modulas arrithmetic operator. It show the remainder of calculation"
   ]
  },
  {
   "cell_type": "code",
   "execution_count": 26,
   "id": "16e542cd-4afb-427f-a0e9-96729c3a8cb2",
   "metadata": {},
   "outputs": [
    {
     "data": {
      "text/plain": [
       "0"
      ]
     },
     "execution_count": 26,
     "metadata": {},
     "output_type": "execute_result"
    }
   ],
   "source": [
    "10%5"
   ]
  },
  {
   "cell_type": "code",
   "execution_count": 29,
   "id": "e6c35021-e61d-445b-a65e-26214d3d0923",
   "metadata": {},
   "outputs": [],
   "source": [
    "#(iii) // - It is called division floor. It is also arithmetic operator."
   ]
  },
  {
   "cell_type": "code",
   "execution_count": 28,
   "id": "5aced8d3-598f-418f-8131-e042d763d14b",
   "metadata": {},
   "outputs": [
    {
     "data": {
      "text/plain": [
       "2"
      ]
     },
     "execution_count": 28,
     "metadata": {},
     "output_type": "execute_result"
    }
   ],
   "source": [
    "10//5"
   ]
  },
  {
   "cell_type": "code",
   "execution_count": 30,
   "id": "4da9e403-4423-487d-af69-e151f1f7ee7c",
   "metadata": {},
   "outputs": [],
   "source": [
    "#(iv) ** - It is called power or expontion. It is all arithmetic operator."
   ]
  },
  {
   "cell_type": "code",
   "execution_count": 31,
   "id": "cf6f0e0f-0fda-4cfe-93c8-d03f51a50d29",
   "metadata": {},
   "outputs": [
    {
     "data": {
      "text/plain": [
       "100000"
      ]
     },
     "execution_count": 31,
     "metadata": {},
     "output_type": "execute_result"
    }
   ],
   "source": [
    "10**5"
   ]
  },
  {
   "cell_type": "code",
   "execution_count": 33,
   "id": "9203e53b-9e44-452b-b623-195e61c35ba3",
   "metadata": {},
   "outputs": [],
   "source": [
    "#Q4. Create a list of length 10 of your choice containing multiple types of data. Using for loop print the element and its data type."
   ]
  },
  {
   "cell_type": "code",
   "execution_count": 34,
   "id": "b61156f7-ecb2-4515-93a8-ff2a44f4aea5",
   "metadata": {},
   "outputs": [],
   "source": [
    "l = [2,3,4,5.5,'lamb',5,6,True,'ilamb91', False]"
   ]
  },
  {
   "cell_type": "code",
   "execution_count": 35,
   "id": "e3443688-21d8-411b-b395-a3fffc106372",
   "metadata": {},
   "outputs": [
    {
     "data": {
      "text/plain": [
       "[2, 3, 4, 5.5, 'lamb', 5, 6, True, 'ilamb91', False]"
      ]
     },
     "execution_count": 35,
     "metadata": {},
     "output_type": "execute_result"
    }
   ],
   "source": [
    "l"
   ]
  },
  {
   "cell_type": "code",
   "execution_count": 36,
   "id": "c94b784a-e123-4f5f-9cf4-614ee11d89d5",
   "metadata": {},
   "outputs": [
    {
     "data": {
      "text/plain": [
       "list"
      ]
     },
     "execution_count": 36,
     "metadata": {},
     "output_type": "execute_result"
    }
   ],
   "source": [
    "type(l)"
   ]
  },
  {
   "cell_type": "code",
   "execution_count": 39,
   "id": "c6c3f2ec-f393-4626-92cd-bb6bc047dcfa",
   "metadata": {},
   "outputs": [
    {
     "name": "stdout",
     "output_type": "stream",
     "text": [
      "2\n",
      "<class 'int'>\n",
      "3\n",
      "<class 'int'>\n",
      "4\n",
      "<class 'int'>\n",
      "5.5\n",
      "<class 'float'>\n",
      "lamb\n",
      "<class 'str'>\n",
      "5\n",
      "<class 'int'>\n",
      "6\n",
      "<class 'int'>\n",
      "True\n",
      "<class 'bool'>\n",
      "ilamb91\n",
      "<class 'str'>\n",
      "False\n",
      "<class 'bool'>\n"
     ]
    }
   ],
   "source": [
    "for i in l :\n",
    "    print(i)\n",
    "    print(type(i))\n",
    "    "
   ]
  },
  {
   "cell_type": "code",
   "execution_count": 40,
   "id": "48529558-27a9-4b5f-9894-ef81c044a07b",
   "metadata": {},
   "outputs": [],
   "source": [
    "#Q5. Using a while loop, verify if the number A is purely divisible by number B and if so then how many times it can be divisible."
   ]
  },
  {
   "cell_type": "code",
   "execution_count": 49,
   "id": "d19c94df-70d7-407d-b4cb-cd3ed95f11a3",
   "metadata": {},
   "outputs": [
    {
     "name": "stdout",
     "output_type": "stream",
     "text": [
      "yes A is purely divisible by B\n"
     ]
    }
   ],
   "source": [
    "A = 100\n",
    "B = 5\n",
    "if A/B :\n",
    "    print (\"yes A is purely divisible by B\")"
   ]
  },
  {
   "cell_type": "code",
   "execution_count": 57,
   "id": "c57edc89-1799-4263-bf0e-ac22fe888aad",
   "metadata": {},
   "outputs": [],
   "source": [
    "#Q6. Create a list containing 25 int type data. Using for loop and if-else condition print if the element is divisible by 3 or not."
   ]
  },
  {
   "cell_type": "code",
   "execution_count": 63,
   "id": "32b425d4-e638-4e5e-b32c-0c28580a4526",
   "metadata": {},
   "outputs": [],
   "source": [
    "C = [1,2,3,12,14,15,27,22,34,26,28,11,13,15,18,20,29,13,48,36,35,38,58,57,68]"
   ]
  },
  {
   "cell_type": "code",
   "execution_count": 64,
   "id": "39c583bc-398c-4f19-9de2-1b9018989fe2",
   "metadata": {},
   "outputs": [
    {
     "data": {
      "text/plain": [
       "list"
      ]
     },
     "execution_count": 64,
     "metadata": {},
     "output_type": "execute_result"
    }
   ],
   "source": [
    "type (C)"
   ]
  },
  {
   "cell_type": "code",
   "execution_count": 69,
   "id": "6c28def3-0e7d-44ec-a26b-a78b969a16e4",
   "metadata": {},
   "outputs": [
    {
     "name": "stdout",
     "output_type": "stream",
     "text": [
      "<class 'list'>\n"
     ]
    }
   ],
   "source": [
    "for D in C :\n",
    "    print (type (C))\n",
    "    if D/3 :\n",
    "        break\n",
    "else :\n",
    "    print ('done')"
   ]
  },
  {
   "cell_type": "markdown",
   "id": "0524669a-c000-4a4c-a76d-7a213cdb9fa4",
   "metadata": {},
   "source": [
    "#Q7. What do you understand about mutable and immutable data types? Give examples for both showing this property."
   ]
  },
  {
   "cell_type": "markdown",
   "id": "060eba38-5aea-4595-9c2c-1a9430781df8",
   "metadata": {},
   "source": [
    "#Mutable and Imutatble data type are collection of data. They consist the Index concept. Every string of List data contain index like forwarding index which is start from 0, 1, 2, 3 and so on. Same it consist backwarding index also int start with -1, -2, -3 and so on. In list data taype we can change the data of that list so we can say it is Mutable object. In string data type we can not change the data, due to that we can tell that is Imutable object."
   ]
  },
  {
   "cell_type": "markdown",
   "id": "a1f9cee9-5ba5-4300-af16-3250ca9448f4",
   "metadata": {},
   "source": [
    "- Mutable "
   ]
  },
  {
   "cell_type": "code",
   "execution_count": 71,
   "id": "a1829c39-598e-4438-aff0-280e89c18f21",
   "metadata": {
    "tags": []
   },
   "outputs": [],
   "source": [
    "E = [2,3,4,'lamb', 11.11]"
   ]
  },
  {
   "cell_type": "code",
   "execution_count": 72,
   "id": "6fd87e00-b85a-4508-b42e-e7a709bb8a7b",
   "metadata": {},
   "outputs": [
    {
     "data": {
      "text/plain": [
       "list"
      ]
     },
     "execution_count": 72,
     "metadata": {},
     "output_type": "execute_result"
    }
   ],
   "source": [
    "type (E)"
   ]
  },
  {
   "cell_type": "code",
   "execution_count": 74,
   "id": "63321de7-e8dc-4c59-a466-d1524e9e9b98",
   "metadata": {},
   "outputs": [],
   "source": [
    "E[2]=12.12"
   ]
  },
  {
   "cell_type": "code",
   "execution_count": 75,
   "id": "4998fd1f-9b07-4cda-8e3a-56a03bc61fcd",
   "metadata": {},
   "outputs": [
    {
     "data": {
      "text/plain": [
       "[2, 3, 12.12, 'lamb', 11.11]"
      ]
     },
     "execution_count": 75,
     "metadata": {},
     "output_type": "execute_result"
    }
   ],
   "source": [
    "list (E)"
   ]
  },
  {
   "cell_type": "markdown",
   "id": "7403cd11-d620-42aa-8525-a6449783fee1",
   "metadata": {},
   "source": [
    "- Imutable"
   ]
  },
  {
   "cell_type": "code",
   "execution_count": 76,
   "id": "7ebebad1-dbad-4bdd-a51f-383a786d3c81",
   "metadata": {},
   "outputs": [],
   "source": [
    "F = \"ilamb91\""
   ]
  },
  {
   "cell_type": "code",
   "execution_count": 80,
   "id": "2efcff93-36d3-49fa-b956-25243950b891",
   "metadata": {},
   "outputs": [
    {
     "data": {
      "text/plain": [
       "'a'"
      ]
     },
     "execution_count": 80,
     "metadata": {},
     "output_type": "execute_result"
    }
   ],
   "source": [
    "F[2]"
   ]
  },
  {
   "cell_type": "code",
   "execution_count": 81,
   "id": "462a797c-dcba-46a8-b2d5-d0c5cd594eff",
   "metadata": {},
   "outputs": [
    {
     "ename": "TypeError",
     "evalue": "'str' object does not support item assignment",
     "output_type": "error",
     "traceback": [
      "\u001b[0;31m---------------------------------------------------------------------------\u001b[0m",
      "\u001b[0;31mTypeError\u001b[0m                                 Traceback (most recent call last)",
      "Cell \u001b[0;32mIn[81], line 1\u001b[0m\n\u001b[0;32m----> 1\u001b[0m \u001b[43mF\u001b[49m\u001b[43m[\u001b[49m\u001b[38;5;241;43m2\u001b[39;49m\u001b[43m]\u001b[49m\u001b[38;5;241m=\u001b[39m\u001b[38;5;241m5\u001b[39m\n",
      "\u001b[0;31mTypeError\u001b[0m: 'str' object does not support item assignment"
     ]
    }
   ],
   "source": [
    "F[2]=5"
   ]
  },
  {
   "cell_type": "code",
   "execution_count": null,
   "id": "f81e7b5f-5f4c-4964-a2de-95df79a1f29e",
   "metadata": {},
   "outputs": [],
   "source": []
  }
 ],
 "metadata": {
  "kernelspec": {
   "display_name": "Python 3 (ipykernel)",
   "language": "python",
   "name": "python3"
  },
  "language_info": {
   "codemirror_mode": {
    "name": "ipython",
    "version": 3
   },
   "file_extension": ".py",
   "mimetype": "text/x-python",
   "name": "python",
   "nbconvert_exporter": "python",
   "pygments_lexer": "ipython3",
   "version": "3.10.8"
  }
 },
 "nbformat": 4,
 "nbformat_minor": 5
}
